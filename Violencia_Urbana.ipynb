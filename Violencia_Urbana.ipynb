{
  "cells": [
    {
      "cell_type": "markdown",
      "metadata": {
        "colab_type": "text",
        "id": "view-in-github"
      },
      "source": [
        "<a href=\"https://colab.research.google.com/github/Caio-Vinicius-CA/Violencia-Urbana/blob/main/Violencia_Urbana.ipynb\" target=\"_parent\"><img src=\"https://colab.research.google.com/assets/colab-badge.svg\" alt=\"Open In Colab\"/></a>"
      ]
    },
    {
      "cell_type": "code",
      "execution_count": null,
      "metadata": {
        "id": "yvuNB9UlM7kH"
      },
      "outputs": [],
      "source": [
        "import pandas as pd\n",
        "import matplotlib.pyplot as plt\n",
        "import seaborn as sns"
      ]
    },
    {
      "cell_type": "code",
      "execution_count": null,
      "metadata": {
        "colab": {
          "base_uri": "https://localhost:8080/",
          "height": 73
        },
        "id": "edTfmraCN-DN",
        "outputId": "7241bb6c-92a2-436c-9f69-784e6e6d8365"
      },
      "outputs": [],
      "source": [
        "from google.colab import files\n",
        "uploaded = files.upload()"
      ]
    },
    {
      "cell_type": "code",
      "execution_count": null,
      "metadata": {
        "colab": {
          "base_uri": "https://localhost:8080/",
          "height": 206
        },
        "id": "Gr-PmTl8OGx7",
        "outputId": "1cc60597-7183-4aa2-a11f-c2cf5a6ad772"
      },
      "outputs": [],
      "source": [
        "df = pd.read_excel(\"Book1.xlsx\")\n",
        "df.head()"
      ]
    },
    {
      "cell_type": "code",
      "execution_count": null,
      "metadata": {
        "id": "E4kt7lz_OTs4"
      },
      "outputs": [],
      "source": [
        "df = df.dropna(subset=['MUNICIPIO', 'SEXO', 'DATA', 'TOTAL DE VITIMAS'])\n",
        "\n",
        "# Converte TOTAL_VITIMAS para inteiro\n",
        "df['TOTAL DE VITIMAS'] = pd.to_numeric(df['TOTAL DE VITIMAS'], errors='coerce').fillna(0).astype(int)\n",
        "\n",
        "# Converte DATA para datetime\n",
        "df['DATA'] = pd.to_datetime(df['DATA'], errors='coerce')\n",
        "\n",
        "# Corrige IDADE (se houver erros ou dados ausentes)\n",
        "df['IDADE'] = pd.to_numeric(df['IDADE'], errors='coerce').fillna(-1).astype(int)"
      ]
    },
    {
      "cell_type": "code",
      "execution_count": null,
      "metadata": {
        "colab": {
          "base_uri": "https://localhost:8080/",
          "height": 206
        },
        "id": "8xGPb9XvO8-P",
        "outputId": "c1a8c503-5d89-4597-b47c-875e429e152a"
      },
      "outputs": [],
      "source": [
        "df.head()"
      ]
    },
    {
      "cell_type": "code",
      "execution_count": null,
      "metadata": {
        "colab": {
          "base_uri": "https://localhost:8080/",
          "height": 300
        },
        "id": "I-XAxuMRUoJB",
        "outputId": "589076b2-5efc-46e7-d157-6971c7c88542"
      },
      "outputs": [],
      "source": [
        "df.describe()\n",
        "# df['SEXO'].value_counts()\n",
        "# df['MUNICIPIO'].value_counts().head(10)\n"
      ]
    },
    {
      "cell_type": "code",
      "execution_count": null,
      "metadata": {
        "colab": {
          "base_uri": "https://localhost:8080/",
          "height": 656
        },
        "id": "5OdeCEgpVrTO",
        "outputId": "5fd51b47-f6fd-486e-afc9-dec854b22715"
      },
      "outputs": [],
      "source": [
        "vítimas_municipio = df.groupby('MUNICIPIO')['TOTAL DE VITIMAS'].sum().sort_values(ascending=False).head(10)\n",
        "\n",
        "plt.figure(figsize=(12,6))\n",
        "sns.barplot(x=vítimas_municipio.values, y=vítimas_municipio.index, palette='Reds_r')\n",
        "plt.title(\"Top 10 Municípios com mais Vítimas (Jan-Abr 2025)\")\n",
        "plt.xlabel(\"Total de Vítimas\")\n",
        "plt.ylabel(\"Município\")\n",
        "plt.show()\n"
      ]
    },
    {
      "cell_type": "code",
      "execution_count": null,
      "metadata": {
        "colab": {
          "base_uri": "https://localhost:8080/",
          "height": 829
        },
        "id": "CQgjH1rAVy95",
        "outputId": "fd7b210b-f051-43e6-c112-18bc1d21dd52"
      },
      "outputs": [],
      "source": [
        "sexo = df.groupby('SEXO')['TOTAL DE VITIMAS'].sum()\n",
        "\n",
        "plt.figure(figsize=(10,10))\n",
        "sexo.plot.pie(autopct='%1.1f%%', colors=['lightblue', 'lightcoral'], startangle=90)\n",
        "plt.title('Distribuição das Vítimas por Sexo')\n",
        "plt.ylabel('')\n",
        "plt.show()\n"
      ]
    },
    {
      "cell_type": "code",
      "execution_count": null,
      "metadata": {
        "colab": {
          "base_uri": "https://localhost:8080/",
          "height": 423
        },
        "id": "U7px0MbxaMbJ",
        "outputId": "c547619f-bdea-4b26-9dae-68b8740f7005"
      },
      "outputs": [],
      "source": [
        "df['MES'] = df['DATA'].dt.month\n",
        "df['MES'] = df['DATA'].dt.strftime('%B')\n",
        "df['MES'] = df['MES'].replace({\n",
        "    'January': 'Janeiro', 'February': 'Fevereiro', 'March': 'Março', 'April': 'Abril',\n",
        "    'May': 'Maio', 'June': 'Junho', 'July': 'Julho', 'August': 'Agosto',\n",
        "    'September': 'Setembro', 'October': 'Outubro', 'November': 'Novembro', 'December': 'Dezembro'\n",
        "})\n",
        "df"
      ]
    },
    {
      "cell_type": "code",
      "execution_count": null,
      "metadata": {
        "colab": {
          "base_uri": "https://localhost:8080/",
          "height": 607
        },
        "id": "7zx5KDNSbDNk",
        "outputId": "05cee54a-d54b-4659-aa5d-3faae2d5b151"
      },
      "outputs": [],
      "source": [
        "# Agrupar por mês\n",
        "vitimas_por_mes = df.groupby('MES')['TOTAL DE VITIMAS'].sum().reindex(\n",
        "    ['Janeiro', 'Fevereiro', 'Março', 'Abril', 'Maio', 'Junho', 'Julho', 'Agosto', 'Setembro', 'Outubro', 'Novembro', 'Dezembro']  # ordena corretamente os meses analisados\n",
        ")\n",
        "\n",
        "plt.figure(figsize=(12, 6))\n",
        "\n",
        "# Gerar uma paleta de cores baseada nos valores\n",
        "colors = sns.color_palette(\"Reds\", len(vitimas_por_mes))\n",
        "# Ordenar as cores conforme os valores (para maior impacto visual)\n",
        "sorted_indices = vitimas_por_mes.values.argsort()\n",
        "colors_ordered = [colors[i] for i in sorted_indices.argsort()]\n",
        "\n",
        "# Criar o gráfico\n",
        "sns.barplot(x=vitimas_por_mes.index, y=vitimas_por_mes.values, hue=vitimas_por_mes.index, palette=colors_ordered, legend=False)\n",
        "plt.title('Total de Vítimas por Mês (PE - Jan a Abr 2025)')\n",
        "plt.ylabel('Total de Vítimas')\n",
        "plt.xlabel('Mês')\n",
        "plt.xticks(rotation=45)\n",
        "plt.tight_layout()\n",
        "plt.show()"
      ]
    },
    {
      "cell_type": "code",
      "execution_count": null,
      "metadata": {
        "colab": {
          "base_uri": "https://localhost:8080/",
          "height": 423
        },
        "id": "JWck5Sozgy6p",
        "outputId": "415bad21-2a5c-4183-acad-263ffa8fe1a8"
      },
      "outputs": [],
      "source": [
        "# Exibir apenas os dados da região \"SERTÃO\"\n",
        "df[df['REGIAO_GEOGRAFICA'] == 'SERTÃO']"
      ]
    },
    {
      "cell_type": "code",
      "execution_count": null,
      "metadata": {
        "colab": {
          "base_uri": "https://localhost:8080/",
          "height": 423
        },
        "id": "6eP_v64gtd99",
        "outputId": "c5893309-a928-4d80-92df-02eac7dc667e"
      },
      "outputs": [],
      "source": [
        "df.drop('TOTAL DE VITIMAS', axis=1, inplace=True)\n",
        "df"
      ]
    },
    {
      "cell_type": "code",
      "execution_count": null,
      "metadata": {
        "colab": {
          "base_uri": "https://localhost:8080/",
          "height": 34
        },
        "id": "2PFIAi1pd2df",
        "outputId": "40e882c2-1025-474f-c666-aad65a8ed04b"
      },
      "outputs": [],
      "source": [
        "# Salvar o DataFrame limpo como arquivo CSV\n",
        "df.to_csv('dados_limpos.csv', index=False, encoding='utf-8-sig')\n",
        "\n",
        "# Baixar o arquivo\n",
        "from google.colab import files\n",
        "files.download('dados_limpos.csv')"
      ]
    }
  ],
  "metadata": {
    "colab": {
      "authorship_tag": "ABX9TyMQZFUN+zp1XkW9F4Uh/gAL",
      "include_colab_link": true,
      "provenance": []
    },
    "kernelspec": {
      "display_name": "Python 3",
      "name": "python3"
    },
    "language_info": {
      "name": "python"
    }
  },
  "nbformat": 4,
  "nbformat_minor": 0
}
